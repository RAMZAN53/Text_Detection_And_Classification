{
  "nbformat": 4,
  "nbformat_minor": 0,
  "metadata": {
    "colab": {
      "provenance": [],
      "gpuType": "V28"
    },
    "kernelspec": {
      "name": "python3",
      "display_name": "Python 3"
    },
    "language_info": {
      "name": "python"
    },
    "accelerator": "TPU"
  },
  "cells": [
    {
      "cell_type": "code",
      "source": [
        "from google.colab import drive\n",
        "drive.mount('/content/drive')"
      ],
      "metadata": {
        "colab": {
          "base_uri": "https://localhost:8080/"
        },
        "id": "9agVgpkA6juT",
        "outputId": "6055176d-5275-4001-ce04-eab1813fb3cc"
      },
      "execution_count": null,
      "outputs": [
        {
          "output_type": "stream",
          "name": "stdout",
          "text": [
            "Mounted at /content/drive\n"
          ]
        }
      ]
    },
    {
      "cell_type": "code",
      "source": [
        "!jupyter nbconvert --to script \"/content/drive/My Drive/ML1_Project/EasyOCR/EasyOpticalCharacterRecognition.ipynb\"\n",
        "!mv \"/content/drive/My Drive/ML1_Project/EasyOCR/EasyOpticalCharacterRecognition.txt\" \"/content/drive/My Drive/ML1_Project/EasyOCR/EasyOpticalCharacterRecognition.py\""
      ],
      "metadata": {
        "colab": {
          "base_uri": "https://localhost:8080/"
        },
        "id": "uS7fM4zu6kpg",
        "outputId": "ddf7fe4b-16ab-4d87-c651-edb7311cfba6"
      },
      "execution_count": null,
      "outputs": [
        {
          "output_type": "stream",
          "name": "stdout",
          "text": [
            "[NbConvertApp] Converting notebook /content/drive/My Drive/ML1_Project/EasyOCR/EasyOpticalCharacterRecognition.ipynb to script\n",
            "[NbConvertApp] Writing 2669 bytes to /content/drive/My Drive/ML1_Project/EasyOCR/EasyOpticalCharacterRecognition.txt\n"
          ]
        }
      ]
    },
    {
      "cell_type": "code",
      "source": [
        "import sys\n",
        "sys.path.append(\"/content/drive/My Drive/ML1_Project/EasyOCR/\")"
      ],
      "metadata": {
        "id": "zaYVFoqm7kGd"
      },
      "execution_count": null,
      "outputs": []
    },
    {
      "cell_type": "markdown",
      "source": [
        "**<h1>GUI Interface</h1>**"
      ],
      "metadata": {
        "id": "k_onLJkS9ubi"
      }
    },
    {
      "cell_type": "code",
      "source": [
        "!pip install gradio"
      ],
      "metadata": {
        "id": "JFodwTu_9tAm"
      },
      "execution_count": null,
      "outputs": []
    },
    {
      "cell_type": "code",
      "source": [
        "!pip install easyocr"
      ],
      "metadata": {
        "id": "gmftpM_w9Vbq"
      },
      "execution_count": null,
      "outputs": []
    },
    {
      "cell_type": "code",
      "source": [
        "!pip install tensorflow"
      ],
      "metadata": {
        "id": "-Feo-qjL81dL"
      },
      "execution_count": null,
      "outputs": []
    },
    {
      "cell_type": "code",
      "source": [
        "from EasyOpticalCharacterRecognition import process_image\n",
        "import gradio as gr"
      ],
      "metadata": {
        "id": "ijb8NFkc7sJV",
        "colab": {
          "base_uri": "https://localhost:8080/"
        },
        "outputId": "85eb7bd6-3347-4de4-cba5-3c0a151435e2"
      },
      "execution_count": null,
      "outputs": [
        {
          "output_type": "stream",
          "name": "stdout",
          "text": [
            "Drive already mounted at /content/drive; to attempt to forcibly remount, call drive.mount(\"/content/drive\", force_remount=True).\n"
          ]
        },
        {
          "output_type": "stream",
          "name": "stderr",
          "text": [
            "WARNING:absl:Compiled the loaded model, but the compiled metrics have yet to be built. `model.compile_metrics` will be empty until you train or evaluate the model.\n"
          ]
        },
        {
          "output_type": "stream",
          "name": "stdout",
          "text": [
            "✅ Model loaded.\n",
            "✅ Label encoder loaded.\n"
          ]
        }
      ]
    },
    {
      "cell_type": "code",
      "source": [
        "with gr.Blocks(\n",
        "    title=\"Text Type Classifier\",\n",
        "    css=\"\"\"\n",
        "        body {\n",
        "            background-color: #C0C0C0 !important;\n",
        "        }\n",
        "        .outer-box {\n",
        "            border: 8px solid black;\n",
        "            border-radius: 16px;\n",
        "            padding: 24px;\n",
        "            background-color: white;\n",
        "        }\n",
        "        .gr-box {\n",
        "            border: 6px solid #0288d1 !important;\n",
        "            border-radius: 12px;\n",
        "            padding: 16px;\n",
        "            background-color: white;\n",
        "            box-shadow: 0px 2px 10px rgba(0,0,0,0.1);\n",
        "        }\n",
        "        .gr-button {\n",
        "            background-color: #0288d1 !important;\n",
        "            color: white !important;\n",
        "            font-weight: bold;\n",
        "            border-radius: 8px;\n",
        "            margin-top: 10px;\n",
        "        }\n",
        "        .gr-button:hover {\n",
        "            background-color: #01579b !important;\n",
        "        }\n",
        "    \"\"\"\n",
        ") as demo:\n",
        "\n",
        "    with gr.Column(elem_classes=[\"outer-box\"]):\n",
        "\n",
        "        gr.Markdown(\n",
        "            \"\"\"\n",
        "            <div style=\"text-align: center;\">\n",
        "                <h1><strong>Handwritten vs Computerized Text Classifier</strong></h1>\n",
        "            </div>\n",
        "            \"\"\",\n",
        "            elem_classes=[\"gr-box\"]\n",
        "        )\n",
        "\n",
        "        with gr.Row():\n",
        "            with gr.Column():\n",
        "                image_input = gr.Image(label=\"Upload Image\", type=\"numpy\", elem_classes=[\"gr-box\"])\n",
        "                submit_btn = gr.Button(\"Process Image\", elem_classes=[\"gr-box\", \"gr-button\"])\n",
        "                clear_btn = gr.Button(\"Clear\", elem_classes=[\"gr-box\", \"gr-button\"])\n",
        "\n",
        "            with gr.Column():\n",
        "                image_output = gr.Image(label=\"Annotated Output\", type=\"numpy\", elem_classes=[\"gr-box\"])\n",
        "                text_output = gr.Textbox(label=\"Detected Results\", lines=10, elem_classes=[\"gr-box\"])\n",
        "\n",
        "        submit_btn.click(\n",
        "            fn=process_image,\n",
        "            inputs=image_input,\n",
        "            outputs=[image_output, text_output]\n",
        "        )\n",
        "\n",
        "        clear_btn.click(\n",
        "            fn=lambda: (None, None, \"\"),\n",
        "            inputs=[],\n",
        "            outputs=[image_input, image_output, text_output]\n",
        "        )"
      ],
      "metadata": {
        "id": "TbyXWTv7VeRZ"
      },
      "execution_count": null,
      "outputs": []
    },
    {
      "cell_type": "code",
      "source": [
        "demo.launch()"
      ],
      "metadata": {
        "colab": {
          "base_uri": "https://localhost:8080/",
          "height": 650
        },
        "id": "F6_VsB8a-pEN",
        "outputId": "9d75b54b-667b-40eb-cd7e-008df3a93d0c"
      },
      "execution_count": null,
      "outputs": [
        {
          "output_type": "stream",
          "name": "stdout",
          "text": [
            "It looks like you are running Gradio on a hosted a Jupyter notebook. For the Gradio app to work, sharing must be enabled. Automatically setting `share=True` (you can turn this off by setting `share=False` in `launch()` explicitly).\n",
            "\n",
            "Colab notebook detected. To show errors in colab notebook, set debug=True in launch()\n",
            "* Running on public URL: https://e9c34bfe20efeaf438.gradio.live\n",
            "\n",
            "This share link expires in 1 week. For free permanent hosting and GPU upgrades, run `gradio deploy` from the terminal in the working directory to deploy to Hugging Face Spaces (https://huggingface.co/spaces)\n"
          ]
        },
        {
          "output_type": "display_data",
          "data": {
            "text/plain": [
              "<IPython.core.display.HTML object>"
            ],
            "text/html": [
              "<div><iframe src=\"https://e9c34bfe20efeaf438.gradio.live\" width=\"100%\" height=\"500\" allow=\"autoplay; camera; microphone; clipboard-read; clipboard-write;\" frameborder=\"0\" allowfullscreen></iframe></div>"
            ]
          },
          "metadata": {}
        },
        {
          "output_type": "execute_result",
          "data": {
            "text/plain": []
          },
          "metadata": {},
          "execution_count": 9
        }
      ]
    },
    {
      "cell_type": "code",
      "source": [],
      "metadata": {
        "id": "guc-PJsaAt4I"
      },
      "execution_count": null,
      "outputs": []
    }
  ]
}